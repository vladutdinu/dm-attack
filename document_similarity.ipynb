{
 "cells": [
  {
   "cell_type": "code",
   "execution_count": null,
   "id": "4c2969cc-02f7-453c-b401-b967953ad1aa",
   "metadata": {},
   "outputs": [],
   "source": [
    "import pandas as pd\n",
    "from langchain_community.embeddings import OllamaEmbeddings\n",
    "from ragas.dataset_schema import SingleTurnSample\n",
    "from ragas.metrics import SemanticSimilarity\n",
    "from ragas.embeddings import LangchainEmbeddingsWrapper"
   ]
  },
  {
   "cell_type": "code",
   "execution_count": null,
   "id": "908ea432",
   "metadata": {},
   "outputs": [],
   "source": [
    "df_processed_html = pd.read_csv('filtered_data.csv')"
   ]
  },
  {
   "cell_type": "code",
   "execution_count": null,
   "id": "a2e17162-e3b3-4e98-83ad-70e8ff758085",
   "metadata": {},
   "outputs": [],
   "source": [
    "OLLAMA_BASE_URL = \"https://....\"\n",
    "embeddings_ollama = OllamaEmbeddings(model=\"mxbai-embed-large:latest\", base_url=OLLAMA_BASE_URL)\n",
    "scorer = SemanticSimilarity(embeddings=LangchainEmbeddingsWrapper(embeddings_ollama))\n"
   ]
  },
  {
   "cell_type": "code",
   "execution_count": null,
   "id": "c5e5c5d2-5cef-4b5a-9e8a-1b35f16c490e",
   "metadata": {},
   "outputs": [],
   "source": [
    "similarity_cb_128 = []\n",
    "\n",
    "for i in range(len(df_processed_html['html_page'])):\n",
    "    try:\n",
    "        score = SingleTurnSample(\n",
    "            response=df_processed_html['clean_bert_128'][i],\n",
    "            reference=df_processed_html['html_page'][i]\n",
    "        )\n",
    "        \n",
    "        value = await scorer.single_turn_ascore(score)\n",
    "        similarity_cb_128.append(value)\n",
    "    except: #handling for NaN values\n",
    "        similarity_cb_128.append(0)"
   ]
  },
  {
   "cell_type": "code",
   "execution_count": null,
   "id": "dc06dd8a-d8b5-4d24-9634-8a026322a5dc",
   "metadata": {
    "scrolled": true
   },
   "outputs": [],
   "source": [
    "similarity_cb_64 = []\n",
    "\n",
    "for i in range(len(df_processed_html['html_page'])):\n",
    "    try:\n",
    "        score = SingleTurnSample(\n",
    "            response=df_processed_html['clean_bert_64'][i],\n",
    "            reference=df_processed_html['html_page'][i]\n",
    "        )\n",
    "        \n",
    "        value = await scorer.single_turn_ascore(score)\n",
    "        similarity_cb_64.append(value)\n",
    "    except: #handling for NaN values\n",
    "        similarity_cb_64.append(0)"
   ]
  },
  {
   "cell_type": "code",
   "execution_count": null,
   "id": "fe7c2bb7-0122-48a9-84ad-a8ca98ff6dbc",
   "metadata": {},
   "outputs": [],
   "source": [
    "similarity_meta_128 = []\n",
    "\n",
    "for i in range(len(df_processed_html['html_page'])):\n",
    "    try:\n",
    "        score = SingleTurnSample(\n",
    "            response=df_processed_html['clean_meta_128'][i],\n",
    "            reference=df_processed_html['html_page'][i]\n",
    "        )\n",
    "        \n",
    "        value = await scorer.single_turn_ascore(score)\n",
    "        similarity_meta_128.append(value)\n",
    "    except: #handling for NaN values\n",
    "        similarity_meta_128.append(0)"
   ]
  },
  {
   "cell_type": "code",
   "execution_count": null,
   "id": "178a238a-5dbd-472d-97ce-12d97aa73d32",
   "metadata": {},
   "outputs": [],
   "source": [
    "similarity_meta_64 = []\n",
    "\n",
    "for i in range(len(df_processed_html['html_page'])):\n",
    "    try:\n",
    "        score = SingleTurnSample(\n",
    "            response=df_processed_html['clean_meta_64'][i],\n",
    "            reference=df_processed_html['html_page'][i]\n",
    "        )\n",
    "        \n",
    "        value = await scorer.single_turn_ascore(score)\n",
    "        similarity_meta_64.append(value)\n",
    "    except: #handling for NaN values\n",
    "        similarity_meta_64.append(0)\n",
    "        "
   ]
  },
  {
   "cell_type": "code",
   "execution_count": 37,
   "id": "adc34432-035f-4cb4-9853-839a28226968",
   "metadata": {},
   "outputs": [],
   "source": [
    "df_processed_html[\"cb_128\"] = similarity_cb_128\n",
    "df_processed_html[\"cb_64\"] = similarity_cb_64\n",
    "df_processed_html[\"meta_128\"] = similarity_meta_128\n",
    "df_processed_html[\"meta_64\"] = similarity_meta_64\n"
   ]
  },
  {
   "cell_type": "code",
   "execution_count": 38,
   "id": "71a7b5aa-6b68-41fa-a230-ca25fcde7824",
   "metadata": {},
   "outputs": [],
   "source": [
    "df_processed_html.to_csv(\"filtered_data_with_similarity.csv\")"
   ]
  },
  {
   "cell_type": "code",
   "execution_count": 39,
   "id": "f6df36b0-7ba0-4f37-a28e-52e65b94cd3b",
   "metadata": {},
   "outputs": [
    {
     "data": {
      "text/html": [
       "<div>\n",
       "<style scoped>\n",
       "    .dataframe tbody tr th:only-of-type {\n",
       "        vertical-align: middle;\n",
       "    }\n",
       "\n",
       "    .dataframe tbody tr th {\n",
       "        vertical-align: top;\n",
       "    }\n",
       "\n",
       "    .dataframe thead th {\n",
       "        text-align: right;\n",
       "    }\n",
       "</style>\n",
       "<table border=\"1\" class=\"dataframe\">\n",
       "  <thead>\n",
       "    <tr style=\"text-align: right;\">\n",
       "      <th></th>\n",
       "      <th>cb_128</th>\n",
       "      <th>cb_64</th>\n",
       "      <th>meta_128</th>\n",
       "      <th>meta_64</th>\n",
       "    </tr>\n",
       "  </thead>\n",
       "  <tbody>\n",
       "    <tr>\n",
       "      <th>count</th>\n",
       "      <td>500.000000</td>\n",
       "      <td>500.000000</td>\n",
       "      <td>500.000000</td>\n",
       "      <td>500.000000</td>\n",
       "    </tr>\n",
       "    <tr>\n",
       "      <th>mean</th>\n",
       "      <td>0.511267</td>\n",
       "      <td>0.614304</td>\n",
       "      <td>0.883122</td>\n",
       "      <td>0.919228</td>\n",
       "    </tr>\n",
       "    <tr>\n",
       "      <th>std</th>\n",
       "      <td>0.233188</td>\n",
       "      <td>0.136959</td>\n",
       "      <td>0.130482</td>\n",
       "      <td>0.074946</td>\n",
       "    </tr>\n",
       "    <tr>\n",
       "      <th>min</th>\n",
       "      <td>0.000000</td>\n",
       "      <td>0.000000</td>\n",
       "      <td>0.000000</td>\n",
       "      <td>0.475715</td>\n",
       "    </tr>\n",
       "    <tr>\n",
       "      <th>25%</th>\n",
       "      <td>0.480039</td>\n",
       "      <td>0.532409</td>\n",
       "      <td>0.835707</td>\n",
       "      <td>0.876130</td>\n",
       "    </tr>\n",
       "    <tr>\n",
       "      <th>50%</th>\n",
       "      <td>0.578425</td>\n",
       "      <td>0.615690</td>\n",
       "      <td>0.914622</td>\n",
       "      <td>0.944871</td>\n",
       "    </tr>\n",
       "    <tr>\n",
       "      <th>75%</th>\n",
       "      <td>0.652640</td>\n",
       "      <td>0.709296</td>\n",
       "      <td>0.979901</td>\n",
       "      <td>0.979821</td>\n",
       "    </tr>\n",
       "    <tr>\n",
       "      <th>max</th>\n",
       "      <td>0.898504</td>\n",
       "      <td>0.961838</td>\n",
       "      <td>0.994891</td>\n",
       "      <td>0.995325</td>\n",
       "    </tr>\n",
       "  </tbody>\n",
       "</table>\n",
       "</div>"
      ],
      "text/plain": [
       "           cb_128       cb_64    meta_128     meta_64\n",
       "count  500.000000  500.000000  500.000000  500.000000\n",
       "mean     0.511267    0.614304    0.883122    0.919228\n",
       "std      0.233188    0.136959    0.130482    0.074946\n",
       "min      0.000000    0.000000    0.000000    0.475715\n",
       "25%      0.480039    0.532409    0.835707    0.876130\n",
       "50%      0.578425    0.615690    0.914622    0.944871\n",
       "75%      0.652640    0.709296    0.979901    0.979821\n",
       "max      0.898504    0.961838    0.994891    0.995325"
      ]
     },
     "execution_count": 39,
     "metadata": {},
     "output_type": "execute_result"
    }
   ],
   "source": [
    "df_processed_html.describe()"
   ]
  }
 ],
 "metadata": {
  "kernelspec": {
   "display_name": "Python 3 (ipykernel)",
   "language": "python",
   "name": "python3"
  },
  "language_info": {
   "codemirror_mode": {
    "name": "ipython",
    "version": 3
   },
   "file_extension": ".py",
   "mimetype": "text/x-python",
   "name": "python",
   "nbconvert_exporter": "python",
   "pygments_lexer": "ipython3",
   "version": "3.12.4"
  }
 },
 "nbformat": 4,
 "nbformat_minor": 5
}
